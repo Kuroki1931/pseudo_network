{
 "cells": [
  {
   "cell_type": "code",
   "execution_count": 11,
   "metadata": {},
   "outputs": [],
   "source": [
    "import geopandas as gpd\n",
    "import networkx as nx\n",
    "import fiona\n",
    "import pandas as pd\n",
    "import numpy as np\n",
    "\n",
    "from shapely.wkt import loads \n",
    "from shapely.geometry import Point\n",
    "from scipy.spatial import cKDTree"
   ]
  },
  {
   "cell_type": "code",
   "execution_count": 6,
   "metadata": {},
   "outputs": [],
   "source": [
    "# random tap points"
   ]
  },
  {
   "cell_type": "code",
   "execution_count": null,
   "metadata": {},
   "outputs": [],
   "source": [
    "start_point = [83.9159, 28.2905]\n",
    "end_point = [84.0289, 28.1873]\n",
    "\n",
    "x = np.linspace(start_point[0], end_point[0], 20)\n",
    "y = np.linspace(start_point[1], end_point[1], 20)\n",
    "\n",
    "point_list = []\n",
    "for i in x:\n",
    "    for j in y:\n",
    "        point_list.append(Point(i, j))\n",
    "\n",
    "point_df = pd.DataFrame({'geometry': point_list}).reset_index().rename(columns={'index': 'id'})\n",
    "point_df['geometry'] = point_df['geometry'].astype(str)\n",
    "point_df = gpd.GeoDataFrame(point_df, geometry=[loads(wkt) for wkt in point_df['geometry']])\n",
    "point_df.to_file('random_point.gpkg', driver='GPKG')"
   ]
  },
  {
   "cell_type": "code",
   "execution_count": 7,
   "metadata": {},
   "outputs": [],
   "source": [
    "# random source points"
   ]
  },
  {
   "cell_type": "code",
   "execution_count": null,
   "metadata": {},
   "outputs": [],
   "source": [
    "source_index = np.random.randint(0, 400, 5)\n",
    "tap_df = point_df[~point_df['id'].isin(source_index)]\n",
    "sor_df = point_df[point_df['id'].isin(source_index)]\n",
    "tap_df.to_file('pokhara_tap.gpkg', driver='GPKG')\n",
    "sor_df.to_file('pokhara_sor.gpkg', driver='GPKG')"
   ]
  },
  {
   "cell_type": "code",
   "execution_count": null,
   "metadata": {},
   "outputs": [],
   "source": [
    "# target district"
   ]
  },
  {
   "cell_type": "code",
   "execution_count": null,
   "metadata": {},
   "outputs": [],
   "source": [
    "district = gpd.read_file(r'C:\\Users\\kurokiso\\Desktop\\research\\資料\\土地情報\\道路ネットワーク\\取得情報\\hermes_NPL_new_wgs\\hermes_NPL_new_wgs_3.shp')\n",
    "tar_dis = district[district['LOCAL'] == 'Pokhara Lekhnath']\n",
    "tar_dis.to_file('pokhara_district.gpkg', driver='GPKG')"
   ]
  },
  {
   "cell_type": "code",
   "execution_count": null,
   "metadata": {},
   "outputs": [],
   "source": [
    "# road information"
   ]
  },
  {
   "cell_type": "code",
   "execution_count": null,
   "metadata": {},
   "outputs": [],
   "source": [
    "road = gpd.read_file(r'C:\\Users\\kurokiso\\Desktop\\research\\資料\\土地情報\\道路ネットワーク\\npl-rdsl-trans-25k-50k-sdn-wgs84\\npl_rdsl_trans_25K_50K_sdn_wgs84.shp')\n",
    "road_clipped = gpd.clip(road, district)"
   ]
  },
  {
   "cell_type": "code",
   "execution_count": null,
   "metadata": {},
   "outputs": [],
   "source": [
    "road_clipped.to_file('pokhara_road.gpkg', driver='GPKG')"
   ]
  },
  {
   "cell_type": "code",
   "execution_count": null,
   "metadata": {},
   "outputs": [],
   "source": [
    "# calculate"
   ]
  },
  {
   "cell_type": "code",
   "execution_count": null,
   "metadata": {},
   "outputs": [],
   "source": [
    "def _ckdnearest(gdA, gdB):\n",
    "    nA = np.array(list(gdA.geometry.apply(lambda x: (x.x, x.y))))\n",
    "    nB = np.array(list(gdB.geometry.apply(lambda x: (x.x, x.y))))\n",
    "    btree = cKDTree(nB)\n",
    "    dist, idx = btree.query(nA, k=1)\n",
    "    gdB_nearest = gdB.iloc[idx].drop(columns=\"geometry\").reset_index(drop=True)\n",
    "    gdf = pd.concat(\n",
    "        [\n",
    "            gdA.reset_index(drop=True),\n",
    "            gdB_nearest,\n",
    "            pd.Series(dist, name='dist')\n",
    "        ], \n",
    "        axis=1)\n",
    "    return gdf\n",
    "\n",
    "# get vertices - get start and end point of road\n",
    "def get_vertices(output=False):\n",
    "    point_unique_list = []\n",
    "    road_unique_list = []\n",
    "    geopoint_list = []\n",
    "    road_length_list = []\n",
    "    start_id = 0\n",
    "    with fiona.open('pokhara_road.gpkg') as lines:\n",
    "        for line in lines:\n",
    "            # raod start point\n",
    "            geopoint_list.append(str(Point(line['geometry']['coordinates'][0])))\n",
    "            point_unique_list.append(start_id)\n",
    "            start_id += 1\n",
    "            road_unique_list.append(line['properties']['index'])\n",
    "            road_length_list.append(line['properties']['LENGTH'])\n",
    "            # road end point\n",
    "            geopoint_list.append(str(Point(line['geometry']['coordinates'][-1])))\n",
    "            point_unique_list.append(start_id)\n",
    "            start_id += 1\n",
    "            road_unique_list.append(line['properties']['index'])\n",
    "            road_length_list.append(line['properties']['LENGTH'])\n",
    "\n",
    "    df = pd.DataFrame({'net_id': point_unique_list, 'index': road_unique_list, 'geometry': geopoint_list, 'length': road_length_list})\n",
    "    df = gpd.GeoDataFrame(df, geometry=[loads(wkt) for wkt in df['geometry']])\n",
    "    if output:\n",
    "        df.to_file('vertices.gpkg', driver='GPKG')\n",
    "    return df\n",
    "\n",
    "# get overlapping points (intersection points)\n",
    "def get_intersection(df):\n",
    "    df['X'] = df['geometry'].x\n",
    "    df['Y'] = df['geometry'].y\n",
    "    df = pd.DataFrame(df.groupby(['X', 'Y']).agg({'net_id': (lambda x: list(x.value_counts().index))}))\n",
    "    intersection_list = df['net_id'].values\n",
    "    return intersection_list\n",
    "\n",
    "# select a representative point\n",
    "def select_rep_point(df, inter_list, output=False):\n",
    "    rep_point_list = []\n",
    "    for i in inter_list:\n",
    "        # take first point if it has some points\n",
    "        rep_point_list.append(i[0])\n",
    "    df = df.set_index('net_id').iloc[rep_point_list, :].reset_index()\n",
    "    df = df[['net_id', 'geometry']]\n",
    "    if output:\n",
    "        df.to_file('rep_vertices.gpkg', driver='GPKG')\n",
    "    return df\n",
    "\n",
    "# get length between points\n",
    "def get_length(df, inter_list):\n",
    "    dic = {}\n",
    "    for i in inter_list:\n",
    "        for v in i:\n",
    "            dic[v] = i[0]\n",
    "    df['net_id'] = df['net_id'].apply(lambda x: dic[x])\n",
    "    len_df = df[['net_id', 'index']]\n",
    "    len_df = len_df.groupby('index').apply(lambda x: x['net_id'].reset_index(drop=True)).reset_index().rename(columns={0: 'start_id', 1: 'end_id'})\n",
    "    df = df.drop_duplicates(subset=['index'])\n",
    "    len_df = pd.merge(len_df, df[['index', 'length']], on='index', how='left')\n",
    "    return len_df\n",
    "\n",
    "# get adjacency matrix\n",
    "def get_ad_matrix(df):\n",
    "    node_num = df.shape[0] * 2\n",
    "    INF = 10**5 - 1\n",
    "    W = [[INF] * node_num for _ in range(node_num)]\n",
    "    for i in range(df.shape[0]):\n",
    "        W[df.loc[i, 'start_id']][df.loc[i, 'end_id']] = df.loc[1, 'length']\n",
    "        W[df.loc[i, 'end_id']][df.loc[i, 'start_id']] = df.loc[1, 'length']\n",
    "    return W\n",
    "\n",
    "# get nearest points\n",
    "def get_neareset_points(df):\n",
    "    sor_df = gpd.read_file('pokhara_sor.gpkg').rename(columns={'id': 'source_id'})\n",
    "    tap_df = gpd.read_file('pokhara_tap.gpkg').rename(columns={'id': 'tap_id'})\n",
    "    sor_nearest_points = _ckdnearest(sor_df, df)[['source_id', 'net_id']]\n",
    "    tap_nearest_points = _ckdnearest(tap_df, df)[['tap_id', 'net_id']]\n",
    "    return sor_nearest_points, tap_nearest_points\n",
    "\n",
    "\n",
    "vertices = get_vertices()\n",
    "intersection_list = get_intersection(vertices)\n",
    "rep_vertices = select_rep_point(vertices, intersection_list)\n",
    "len_df = get_length(vertices, intersection_list)\n",
    "df_matrix = get_ad_matrix(len_df)\n",
    "sor_nearest_points, tap_nearest_points = get_neareset_points(rep_vertices)\n",
    "data = np.array(df_matrix)\n",
    "G=nx.from_numpy_matrix(data)"
   ]
  },
  {
   "cell_type": "code",
   "execution_count": null,
   "metadata": {},
   "outputs": [],
   "source": [
    "tap_id_list = []\n",
    "nearest_len_list = []\n",
    "nearest_point_list = []\n",
    "source_id_list = []\n",
    "for i in range(tap_nearest_points.shape[0]):\n",
    "    tap_id_list.append(tap_nearest_points.loc[i, 'tap_id'])\n",
    "    tap_id = tap_nearest_points.loc[i, 'id']\n",
    "    len_list = []\n",
    "    point_list = []\n",
    "    source_ids_list = []\n",
    "    for j in range(sor_nearest_points.shape[0]):\n",
    "        source_id = sor_nearest_points.loc[j, 'source_id']\n",
    "        nearest_point = nx.shortest_path(G, source=tap_id, target=source_id, weight='weight')\n",
    "        nearest_len = nx.shortest_path_length(G, source=tap_id, target=source_id, weight='weight')\n",
    "        len_list.append(nearest_len)\n",
    "        point_list.append(nearest_point)\n",
    "        source_ids_list.append(source_id)\n",
    "    min_len_index = len_list.index(min(len_list))\n",
    "    nearest_len_list.append(len_list[min_len_index])\n",
    "    nearest_point_list.append(point_list[min_len_index])\n",
    "    source_id_list.append(source_ids_list[min_len_index])\n",
    "output = pd.DataFrame({'tap_id': tap_id_list, 'source_id': source_id_list, 'length': nearest_dist_len, 'point_list': nearest_point_list})"
   ]
  }
 ],
 "metadata": {
  "kernelspec": {
   "display_name": "Python 3 (ipykernel)",
   "language": "python",
   "name": "python3"
  },
  "language_info": {
   "codemirror_mode": {
    "name": "ipython",
    "version": 3
   },
   "file_extension": ".py",
   "mimetype": "text/x-python",
   "name": "python",
   "nbconvert_exporter": "python",
   "pygments_lexer": "ipython3",
   "version": "3.7.13"
  }
 },
 "nbformat": 4,
 "nbformat_minor": 4
}
