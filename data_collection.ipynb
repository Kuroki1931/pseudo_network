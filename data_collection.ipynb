{
 "cells": [
  {
   "cell_type": "code",
   "execution_count": null,
   "id": "bf5d3275",
   "metadata": {},
   "outputs": [],
   "source": [
    "import geopandas as gpd\n",
    "import networkx as nx\n",
    "import fiona\n",
    "import pandas as pd\n",
    "import numpy as np\n",
    "\n",
    "from shapely.wkt import loads \n",
    "from shapely.geometry import Point, Polygon\n",
    "from scipy.spatial import cKDTree"
   ]
  },
  {
   "cell_type": "code",
   "execution_count": null,
   "id": "3746f5ba",
   "metadata": {},
   "outputs": [],
   "source": [
    "# ramdom tap points\n",
    "start_point = [83.9159, 28.2905]\n",
    "end_point = [84.0289, 28.1873]\n",
    "x = np.linspace(start_point[0], end_point[0], 20)\n",
    "y = np.linspace(start_point[1], end_point[1], 20)\n",
    "point_list = []\n",
    "for i in x:\n",
    "    for j in y:\n",
    "        point_list.append(Point(i, j))\n",
    "point_df = pd.DataFrame({'geometry': point_list}).reset_index().rename(columns={'index': 'id'})\n",
    "point_df['geometry'] = point_df['geometry'].astype(str)\n",
    "point_df = gpd.GeoDataFrame(point_df, geometry=[loads(wkt) for wkt in point_df['geometry']])\n",
    "point_df.to_file('random_point.gpkg', driver='GPKG')"
   ]
  },
  {
   "cell_type": "code",
   "execution_count": null,
   "id": "04b28d68",
   "metadata": {},
   "outputs": [],
   "source": [
    "# ramdom source points\n",
    "source_index = np.random.randint(0, 400, 5)\n",
    "tap_df = point_df[~point_df['id'].isin(source_index)]\n",
    "sor_df = point_df[point_df['id'].isin(source_index)]\n",
    "tap_df.to_file('pokhara_tap.gpkg', driver='GPKG')\n",
    "sor_df.to_file('pokhara_sor.gpkg', driver='GPKG')"
   ]
  },
  {
   "cell_type": "code",
   "execution_count": null,
   "id": "a0f76923",
   "metadata": {},
   "outputs": [],
   "source": [
    "# traget district\n",
    "# district = gpd.read_file(r'./data/district/hermes_NPL_new_wgs_3.shp')\n",
    "# tar_dis = district[district['LOCAL'] == 'Pokhara Lekhnath']\n",
    "# tar_dis.to_file('pokhara_district.gpkg', driver='GPKG')\n",
    "polygon_geom = Polygon(zip([83.9158999999999935, 83.9158999999999935, 84.0288999999999930, 84.0288999999999930], [28.1873000000000005, 28.3057000000000016, 28.3057000000000016, 28.1873000000000005]))\n",
    "tar_dis = gpd.GeoDataFrame(index=[0], geometry=[polygon_geom])\n",
    "tar_dis.to_file('pokhara_district.gpkg', driver='GPKG')"
   ]
  },
  {
   "cell_type": "code",
   "execution_count": null,
   "id": "a0094b9e",
   "metadata": {},
   "outputs": [],
   "source": [
    "# road info\n",
    "road = gpd.read_file(r'./data/road/npl_rdsl_trans_25K_50K_sdn_wgs84.shp')\n",
    "road_clipped = gpd.clip(road, tar_dis)\n",
    "road_clipped.to_file('pokhara_road.gpkg', driver='GPKG')"
   ]
  },
  {
   "cell_type": "code",
   "execution_count": null,
   "id": "bcf07116",
   "metadata": {},
   "outputs": [],
   "source": []
  }
 ],
 "metadata": {
  "kernelspec": {
   "display_name": "Python 3 (ipykernel)",
   "language": "python",
   "name": "python3"
  },
  "language_info": {
   "codemirror_mode": {
    "name": "ipython",
    "version": 3
   },
   "file_extension": ".py",
   "mimetype": "text/x-python",
   "name": "python",
   "nbconvert_exporter": "python",
   "pygments_lexer": "ipython3",
   "version": "3.7.13"
  }
 },
 "nbformat": 4,
 "nbformat_minor": 5
}
